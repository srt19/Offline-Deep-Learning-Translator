{
 "cells": [
  {
   "cell_type": "code",
   "execution_count": null,
   "id": "41c0acbf",
   "metadata": {},
   "outputs": [],
   "source": [
    "from transformers import (\n",
    "    MBartForConditionalGeneration, MBartTokenizer\n",
    ")\n",
    "\n",
    "tokenizer = MBartTokenizer.from_pretrained(\"models/ken11/mbart-ja-en\", local_files_only=True)\n",
    "model = MBartForConditionalGeneration.from_pretrained(\"models/ken11/mbart-ja-en\", local_files_only=True)\n",
    "#Romaji Converter\n",
    "from cutlet import Cutlet"
   ]
  },
  {
   "cell_type": "code",
   "execution_count": null,
   "id": "da5a77fb",
   "metadata": {},
   "outputs": [],
   "source": [
    "text = \"スキありつ\"\n",
    "#Delete 3,4 & 8 Line If you don't need romaji converter\n",
    "katsu = Cutlet()\n",
    "rom = katsu.romaji(text)\n",
    "inputs = tokenizer(text, return_tensors=\"pt\")\n",
    "translated_tokens = model.generate(**inputs, decoder_start_token_id=tokenizer.lang_code_to_id[\"en_XX\"], early_stopping=True, max_length=48)\n",
    "pred = tokenizer.batch_decode(translated_tokens, skip_special_tokens=True)[0]\n",
    "print(rom)\n",
    "print(pred)"
   ]
  }
 ],
 "metadata": {
  "kernelspec": {
   "display_name": "Python 3 (ipykernel)",
   "language": "python",
   "name": "python3"
  },
  "language_info": {
   "codemirror_mode": {
    "name": "ipython",
    "version": 3
   },
   "file_extension": ".py",
   "mimetype": "text/x-python",
   "name": "python",
   "nbconvert_exporter": "python",
   "pygments_lexer": "ipython3",
   "version": "3.9.7"
  }
 },
 "nbformat": 4,
 "nbformat_minor": 5
}
