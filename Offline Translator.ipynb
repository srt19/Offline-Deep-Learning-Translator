{
 "cells": [
  {
   "cell_type": "code",
   "execution_count": null,
   "id": "d5ab27b8",
   "metadata": {},
   "outputs": [],
   "source": [
    "#Importing Transformers\n",
    "from transformers import MarianTokenizer, AutoModelForSeq2SeqLM"
   ]
  },
  {
   "cell_type": "code",
   "execution_count": null,
   "id": "4cf27df4-27c3-4e90-89bf-884dcc9089dc",
   "metadata": {},
   "outputs": [],
   "source": [
    "#Romaji Converter\n",
    "from cutlet import Cutlet\n",
    "katsu = Cutlet()"
   ]
  },
  {
   "cell_type": "code",
   "execution_count": null,
   "id": "c0e68f03",
   "metadata": {},
   "outputs": [],
   "source": [
    "src = \"ja\"  # Source Language\n",
    "trg = \"en\"  # Target Language\n",
    "mname = f\"model/Helsinki-NLP/opus-mt-{src}-{trg}\" #Model Name"
   ]
  },
  {
   "cell_type": "code",
   "execution_count": null,
   "id": "c867f3c2",
   "metadata": {},
   "outputs": [],
   "source": [
    "tokenizer = MarianTokenizer.from_pretrained(mname, local_files_only=True)\n",
    "model = AutoModelForSeq2SeqLM.from_pretrained(mname, local_files_only=True)"
   ]
  },
  {
   "cell_type": "code",
   "execution_count": null,
   "id": "93ea79b3",
   "metadata": {},
   "outputs": [],
   "source": [
    "text= \"帰ろうよ\" #Input Your text Here\n",
    "rom = katsu.romaji(text) #Delete This Line You Don't Need This\n",
    "input_ids = tokenizer.encode(text, return_tensors=\"pt\")\n",
    "outputs = model.generate(input_ids)\n",
    "decoded = tokenizer.decode(outputs[0], skip_special_tokens=True)\n",
    "#Romaji\n",
    "print(rom)\n",
    "#Print Translated Text\n",
    "print(decoded)"
   ]
  }
 ],
 "metadata": {
  "kernelspec": {
   "display_name": "Python 3 (ipykernel)",
   "language": "python",
   "name": "python3"
  },
  "language_info": {
   "codemirror_mode": {
    "name": "ipython",
    "version": 3
   },
   "file_extension": ".py",
   "mimetype": "text/x-python",
   "name": "python",
   "nbconvert_exporter": "python",
   "pygments_lexer": "ipython3",
   "version": "3.9.7"
  }
 },
 "nbformat": 4,
 "nbformat_minor": 5
}
